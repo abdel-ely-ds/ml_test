{
 "cells": [
  {
   "cell_type": "code",
   "execution_count": 1,
   "id": "539901ef-6115-45aa-b0e4-856194ca8312",
   "metadata": {},
   "outputs": [],
   "source": [
    "from src import import_raw_data, average_prices, list_unique_products_by_categories_by_df\n",
    "from constants import COLS"
   ]
  },
  {
   "cell_type": "code",
   "execution_count": 2,
   "id": "e46ffb81-5965-42d6-85dc-ba2789ac7340",
   "metadata": {},
   "outputs": [],
   "source": [
    "df_1, df_2 = import_raw_data()"
   ]
  },
  {
   "cell_type": "code",
   "execution_count": 3,
   "id": "c0f467f3-b074-4a00-aaf1-398847028dfc",
   "metadata": {},
   "outputs": [
    {
     "data": {
      "text/html": [
       "<div>\n",
       "<style scoped>\n",
       "    .dataframe tbody tr th:only-of-type {\n",
       "        vertical-align: middle;\n",
       "    }\n",
       "\n",
       "    .dataframe tbody tr th {\n",
       "        vertical-align: top;\n",
       "    }\n",
       "\n",
       "    .dataframe thead th {\n",
       "        text-align: right;\n",
       "    }\n",
       "</style>\n",
       "<table border=\"1\" class=\"dataframe\">\n",
       "  <thead>\n",
       "    <tr style=\"text-align: right;\">\n",
       "      <th></th>\n",
       "      <th>categorieenseigne</th>\n",
       "      <th>prixproduit</th>\n",
       "      <th>identifiantproduit</th>\n",
       "      <th>ean</th>\n",
       "      <th>disponible</th>\n",
       "      <th>pe_id</th>\n",
       "      <th>p_id_cat</th>\n",
       "    </tr>\n",
       "  </thead>\n",
       "  <tbody>\n",
       "    <tr>\n",
       "      <th>0</th>\n",
       "      <td>Offres spéciales|promo</td>\n",
       "      <td>5.85</td>\n",
       "      <td>85061</td>\n",
       "      <td>NaN</td>\n",
       "      <td>NaN</td>\n",
       "      <td>2145942</td>\n",
       "      <td>3407F</td>\n",
       "    </tr>\n",
       "    <tr>\n",
       "      <th>1</th>\n",
       "      <td>Accueil|Epicerie sucrée|Boissons du matin ou d...</td>\n",
       "      <td>5.85</td>\n",
       "      <td>85061</td>\n",
       "      <td>NaN</td>\n",
       "      <td>NaN</td>\n",
       "      <td>2145942</td>\n",
       "      <td>3407F</td>\n",
       "    </tr>\n",
       "    <tr>\n",
       "      <th>2</th>\n",
       "      <td>Accueil|Epicerie sucrée|Boissons du matin ou d...</td>\n",
       "      <td>5.85</td>\n",
       "      <td>85061</td>\n",
       "      <td>NaN</td>\n",
       "      <td>NaN</td>\n",
       "      <td>2145942</td>\n",
       "      <td>3407F</td>\n",
       "    </tr>\n",
       "    <tr>\n",
       "      <th>3</th>\n",
       "      <td>Offres spéciales|Jackpot d'automne</td>\n",
       "      <td>5.85</td>\n",
       "      <td>85061</td>\n",
       "      <td>NaN</td>\n",
       "      <td>NaN</td>\n",
       "      <td>2145942</td>\n",
       "      <td>3407F</td>\n",
       "    </tr>\n",
       "    <tr>\n",
       "      <th>4</th>\n",
       "      <td>Offres spéciales|promo</td>\n",
       "      <td>2.17</td>\n",
       "      <td>51605</td>\n",
       "      <td>NaN</td>\n",
       "      <td>NaN</td>\n",
       "      <td>1075976</td>\n",
       "      <td>3423F</td>\n",
       "    </tr>\n",
       "    <tr>\n",
       "      <th>...</th>\n",
       "      <td>...</td>\n",
       "      <td>...</td>\n",
       "      <td>...</td>\n",
       "      <td>...</td>\n",
       "      <td>...</td>\n",
       "      <td>...</td>\n",
       "      <td>...</td>\n",
       "    </tr>\n",
       "    <tr>\n",
       "      <th>22215</th>\n",
       "      <td>Accueil|Bio|Le marché Bio</td>\n",
       "      <td>5.29</td>\n",
       "      <td>16507</td>\n",
       "      <td>NaN</td>\n",
       "      <td>NaN</td>\n",
       "      <td>673043</td>\n",
       "      <td>NaN</td>\n",
       "    </tr>\n",
       "    <tr>\n",
       "      <th>22216</th>\n",
       "      <td>Accueil|Viandes Poissons|Boucherie|Viande bovine</td>\n",
       "      <td>4.80</td>\n",
       "      <td>48179</td>\n",
       "      <td>NaN</td>\n",
       "      <td>NaN</td>\n",
       "      <td>1045450</td>\n",
       "      <td>649E</td>\n",
       "    </tr>\n",
       "    <tr>\n",
       "      <th>22217</th>\n",
       "      <td>Accueil|Viandes Poissons|Boucherie</td>\n",
       "      <td>4.80</td>\n",
       "      <td>48179</td>\n",
       "      <td>NaN</td>\n",
       "      <td>NaN</td>\n",
       "      <td>1045450</td>\n",
       "      <td>649E</td>\n",
       "    </tr>\n",
       "    <tr>\n",
       "      <th>22218</th>\n",
       "      <td>Accueil|Viandes Poissons|Boucherie|Viande bovine</td>\n",
       "      <td>4.89</td>\n",
       "      <td>65911</td>\n",
       "      <td>NaN</td>\n",
       "      <td>NaN</td>\n",
       "      <td>1433457</td>\n",
       "      <td>307D</td>\n",
       "    </tr>\n",
       "    <tr>\n",
       "      <th>22219</th>\n",
       "      <td>Accueil|Viandes Poissons|Boucherie</td>\n",
       "      <td>4.89</td>\n",
       "      <td>65911</td>\n",
       "      <td>NaN</td>\n",
       "      <td>NaN</td>\n",
       "      <td>1433457</td>\n",
       "      <td>307D</td>\n",
       "    </tr>\n",
       "  </tbody>\n",
       "</table>\n",
       "<p>22220 rows × 7 columns</p>\n",
       "</div>"
      ],
      "text/plain": [
       "                                       categorieenseigne  prixproduit  \\\n",
       "0                                 Offres spéciales|promo         5.85   \n",
       "1      Accueil|Epicerie sucrée|Boissons du matin ou d...         5.85   \n",
       "2      Accueil|Epicerie sucrée|Boissons du matin ou d...         5.85   \n",
       "3                     Offres spéciales|Jackpot d'automne         5.85   \n",
       "4                                 Offres spéciales|promo         2.17   \n",
       "...                                                  ...          ...   \n",
       "22215                          Accueil|Bio|Le marché Bio         5.29   \n",
       "22216   Accueil|Viandes Poissons|Boucherie|Viande bovine         4.80   \n",
       "22217                 Accueil|Viandes Poissons|Boucherie         4.80   \n",
       "22218   Accueil|Viandes Poissons|Boucherie|Viande bovine         4.89   \n",
       "22219                 Accueil|Viandes Poissons|Boucherie         4.89   \n",
       "\n",
       "      identifiantproduit  ean  disponible    pe_id p_id_cat  \n",
       "0                  85061  NaN         NaN  2145942    3407F  \n",
       "1                  85061  NaN         NaN  2145942    3407F  \n",
       "2                  85061  NaN         NaN  2145942    3407F  \n",
       "3                  85061  NaN         NaN  2145942    3407F  \n",
       "4                  51605  NaN         NaN  1075976    3423F  \n",
       "...                  ...  ...         ...      ...      ...  \n",
       "22215              16507  NaN         NaN   673043      NaN  \n",
       "22216              48179  NaN         NaN  1045450     649E  \n",
       "22217              48179  NaN         NaN  1045450     649E  \n",
       "22218              65911  NaN         NaN  1433457     307D  \n",
       "22219              65911  NaN         NaN  1433457     307D  \n",
       "\n",
       "[22220 rows x 7 columns]"
      ]
     },
     "execution_count": 3,
     "metadata": {},
     "output_type": "execute_result"
    }
   ],
   "source": [
    "df_1"
   ]
  },
  {
   "cell_type": "code",
   "execution_count": 4,
   "id": "2c98f4fe-df24-42a9-8817-5c7c4279fb5b",
   "metadata": {},
   "outputs": [
    {
     "data": {
      "text/html": [
       "<div>\n",
       "<style scoped>\n",
       "    .dataframe tbody tr th:only-of-type {\n",
       "        vertical-align: middle;\n",
       "    }\n",
       "\n",
       "    .dataframe tbody tr th {\n",
       "        vertical-align: top;\n",
       "    }\n",
       "\n",
       "    .dataframe thead th {\n",
       "        text-align: right;\n",
       "    }\n",
       "</style>\n",
       "<table border=\"1\" class=\"dataframe\">\n",
       "  <thead>\n",
       "    <tr style=\"text-align: right;\">\n",
       "      <th></th>\n",
       "      <th>categorieenseigne</th>\n",
       "      <th>prixproduit</th>\n",
       "      <th>identifiantproduit</th>\n",
       "      <th>ean</th>\n",
       "      <th>disponible</th>\n",
       "      <th>pe_id</th>\n",
       "      <th>p_id_cat</th>\n",
       "    </tr>\n",
       "  </thead>\n",
       "  <tbody>\n",
       "    <tr>\n",
       "      <th>0</th>\n",
       "      <td>Offres spéciales|promo</td>\n",
       "      <td>5.85</td>\n",
       "      <td>85061</td>\n",
       "      <td>NaN</td>\n",
       "      <td>1</td>\n",
       "      <td>2145942</td>\n",
       "      <td>3407F</td>\n",
       "    </tr>\n",
       "    <tr>\n",
       "      <th>1</th>\n",
       "      <td>Accueil|Epicerie sucrée|Boissons du matin ou d...</td>\n",
       "      <td>5.85</td>\n",
       "      <td>85061</td>\n",
       "      <td>NaN</td>\n",
       "      <td>1</td>\n",
       "      <td>2145942</td>\n",
       "      <td>3407F</td>\n",
       "    </tr>\n",
       "    <tr>\n",
       "      <th>2</th>\n",
       "      <td>Accueil|Epicerie sucrée|Boissons du matin ou d...</td>\n",
       "      <td>5.85</td>\n",
       "      <td>85061</td>\n",
       "      <td>NaN</td>\n",
       "      <td>1</td>\n",
       "      <td>2145942</td>\n",
       "      <td>3407F</td>\n",
       "    </tr>\n",
       "    <tr>\n",
       "      <th>3</th>\n",
       "      <td>Offres spéciales|Jackpot d'automne</td>\n",
       "      <td>5.85</td>\n",
       "      <td>85061</td>\n",
       "      <td>NaN</td>\n",
       "      <td>1</td>\n",
       "      <td>2145942</td>\n",
       "      <td>3407F</td>\n",
       "    </tr>\n",
       "    <tr>\n",
       "      <th>4</th>\n",
       "      <td>Offres spéciales|promo</td>\n",
       "      <td>2.17</td>\n",
       "      <td>51605</td>\n",
       "      <td>NaN</td>\n",
       "      <td>1</td>\n",
       "      <td>1075976</td>\n",
       "      <td>3423F</td>\n",
       "    </tr>\n",
       "    <tr>\n",
       "      <th>...</th>\n",
       "      <td>...</td>\n",
       "      <td>...</td>\n",
       "      <td>...</td>\n",
       "      <td>...</td>\n",
       "      <td>...</td>\n",
       "      <td>...</td>\n",
       "      <td>...</td>\n",
       "    </tr>\n",
       "    <tr>\n",
       "      <th>22128</th>\n",
       "      <td>Accueil|Bio|Le marché Bio</td>\n",
       "      <td>5.29</td>\n",
       "      <td>16507</td>\n",
       "      <td>NaN</td>\n",
       "      <td>1</td>\n",
       "      <td>673043</td>\n",
       "      <td>NaN</td>\n",
       "    </tr>\n",
       "    <tr>\n",
       "      <th>22129</th>\n",
       "      <td>Accueil|Viandes Poissons|Boucherie|Viande bovine</td>\n",
       "      <td>4.80</td>\n",
       "      <td>48179</td>\n",
       "      <td>NaN</td>\n",
       "      <td>1</td>\n",
       "      <td>1045450</td>\n",
       "      <td>649E</td>\n",
       "    </tr>\n",
       "    <tr>\n",
       "      <th>22130</th>\n",
       "      <td>Accueil|Viandes Poissons|Boucherie</td>\n",
       "      <td>4.80</td>\n",
       "      <td>48179</td>\n",
       "      <td>NaN</td>\n",
       "      <td>1</td>\n",
       "      <td>1045450</td>\n",
       "      <td>649E</td>\n",
       "    </tr>\n",
       "    <tr>\n",
       "      <th>22131</th>\n",
       "      <td>Accueil|Viandes Poissons|Boucherie|Viande bovine</td>\n",
       "      <td>4.89</td>\n",
       "      <td>65911</td>\n",
       "      <td>NaN</td>\n",
       "      <td>1</td>\n",
       "      <td>1433457</td>\n",
       "      <td>307D</td>\n",
       "    </tr>\n",
       "    <tr>\n",
       "      <th>22132</th>\n",
       "      <td>Accueil|Viandes Poissons|Boucherie</td>\n",
       "      <td>4.89</td>\n",
       "      <td>65911</td>\n",
       "      <td>NaN</td>\n",
       "      <td>1</td>\n",
       "      <td>1433457</td>\n",
       "      <td>307D</td>\n",
       "    </tr>\n",
       "  </tbody>\n",
       "</table>\n",
       "<p>22133 rows × 7 columns</p>\n",
       "</div>"
      ],
      "text/plain": [
       "                                       categorieenseigne  prixproduit  \\\n",
       "0                                 Offres spéciales|promo         5.85   \n",
       "1      Accueil|Epicerie sucrée|Boissons du matin ou d...         5.85   \n",
       "2      Accueil|Epicerie sucrée|Boissons du matin ou d...         5.85   \n",
       "3                     Offres spéciales|Jackpot d'automne         5.85   \n",
       "4                                 Offres spéciales|promo         2.17   \n",
       "...                                                  ...          ...   \n",
       "22128                          Accueil|Bio|Le marché Bio         5.29   \n",
       "22129   Accueil|Viandes Poissons|Boucherie|Viande bovine         4.80   \n",
       "22130                 Accueil|Viandes Poissons|Boucherie         4.80   \n",
       "22131   Accueil|Viandes Poissons|Boucherie|Viande bovine         4.89   \n",
       "22132                 Accueil|Viandes Poissons|Boucherie         4.89   \n",
       "\n",
       "      identifiantproduit  ean  disponible    pe_id p_id_cat  \n",
       "0                  85061  NaN           1  2145942    3407F  \n",
       "1                  85061  NaN           1  2145942    3407F  \n",
       "2                  85061  NaN           1  2145942    3407F  \n",
       "3                  85061  NaN           1  2145942    3407F  \n",
       "4                  51605  NaN           1  1075976    3423F  \n",
       "...                  ...  ...         ...      ...      ...  \n",
       "22128              16507  NaN           1   673043      NaN  \n",
       "22129              48179  NaN           1  1045450     649E  \n",
       "22130              48179  NaN           1  1045450     649E  \n",
       "22131              65911  NaN           1  1433457     307D  \n",
       "22132              65911  NaN           1  1433457     307D  \n",
       "\n",
       "[22133 rows x 7 columns]"
      ]
     },
     "execution_count": 4,
     "metadata": {},
     "output_type": "execute_result"
    }
   ],
   "source": [
    "df_2"
   ]
  },
  {
   "cell_type": "code",
   "execution_count": 5,
   "id": "1a049484-0831-46d7-ad4e-76ee7d82ae3d",
   "metadata": {},
   "outputs": [],
   "source": [
    "prices = average_prices(df_1, df_2)"
   ]
  },
  {
   "cell_type": "code",
   "execution_count": 6,
   "id": "37c06c9c-1d15-4c6a-a4b9-ef9ac67a5b55",
   "metadata": {},
   "outputs": [],
   "source": [
    "products1 = list_unique_products_by_categories_by_df(df_1)\n",
    "products2 = list_unique_products_by_categories_by_df(df_2)"
   ]
  },
  {
   "cell_type": "code",
   "execution_count": 7,
   "id": "8743610e-0001-4a82-91bd-7f76ce6d3772",
   "metadata": {},
   "outputs": [],
   "source": [
    "import pandas as pd"
   ]
  },
  {
   "cell_type": "code",
   "execution_count": 8,
   "id": "38587b1a-81de-446f-998d-d948834eb2de",
   "metadata": {},
   "outputs": [],
   "source": [
    "df_merged_1 = pd.DataFrame([['cat_1', 6.8, None, None, None, 123, None],\n",
    "                                ['cat_2', 6.2, None, None, None, 123, None]], columns=COLS)\n",
    "df_merged_2 = pd.DataFrame([['cat_1', 8, None, None, None, 123, None],\n",
    "                                ['cat_2', 6.2, None, None, None, 124, None]], columns=COLS)"
   ]
  },
  {
   "cell_type": "code",
   "execution_count": 9,
   "id": "0987dc0d-6b24-4616-ac27-3c0c01954e41",
   "metadata": {},
   "outputs": [
    {
     "data": {
      "text/html": [
       "<div>\n",
       "<style scoped>\n",
       "    .dataframe tbody tr th:only-of-type {\n",
       "        vertical-align: middle;\n",
       "    }\n",
       "\n",
       "    .dataframe tbody tr th {\n",
       "        vertical-align: top;\n",
       "    }\n",
       "\n",
       "    .dataframe thead th {\n",
       "        text-align: right;\n",
       "    }\n",
       "</style>\n",
       "<table border=\"1\" class=\"dataframe\">\n",
       "  <thead>\n",
       "    <tr style=\"text-align: right;\">\n",
       "      <th></th>\n",
       "      <th>categorieenseigne</th>\n",
       "      <th>prixproduit</th>\n",
       "      <th>identifiantproduit</th>\n",
       "      <th>ean</th>\n",
       "      <th>disponible</th>\n",
       "      <th>pe_id</th>\n",
       "      <th>p_id_cat</th>\n",
       "    </tr>\n",
       "  </thead>\n",
       "  <tbody>\n",
       "    <tr>\n",
       "      <th>0</th>\n",
       "      <td>cat_1</td>\n",
       "      <td>6.8</td>\n",
       "      <td>None</td>\n",
       "      <td>None</td>\n",
       "      <td>None</td>\n",
       "      <td>123</td>\n",
       "      <td>None</td>\n",
       "    </tr>\n",
       "    <tr>\n",
       "      <th>1</th>\n",
       "      <td>cat_2</td>\n",
       "      <td>6.2</td>\n",
       "      <td>None</td>\n",
       "      <td>None</td>\n",
       "      <td>None</td>\n",
       "      <td>123</td>\n",
       "      <td>None</td>\n",
       "    </tr>\n",
       "  </tbody>\n",
       "</table>\n",
       "</div>"
      ],
      "text/plain": [
       "  categorieenseigne  prixproduit identifiantproduit   ean disponible  pe_id  \\\n",
       "0             cat_1          6.8               None  None       None    123   \n",
       "1             cat_2          6.2               None  None       None    123   \n",
       "\n",
       "  p_id_cat  \n",
       "0     None  \n",
       "1     None  "
      ]
     },
     "execution_count": 9,
     "metadata": {},
     "output_type": "execute_result"
    }
   ],
   "source": [
    "df_merged_1"
   ]
  },
  {
   "cell_type": "code",
   "execution_count": 10,
   "id": "a376633c-cd32-4ff8-b5fb-41824ea611c3",
   "metadata": {},
   "outputs": [
    {
     "data": {
      "text/plain": [
       "{123: 7.0, 124: 6.2}"
      ]
     },
     "execution_count": 10,
     "metadata": {},
     "output_type": "execute_result"
    }
   ],
   "source": [
    "average_prices(df_merged_1, df_merged_2)"
   ]
  },
  {
   "cell_type": "code",
   "execution_count": 11,
   "id": "70b326d2-79ee-433f-8bab-3398efcdad4d",
   "metadata": {},
   "outputs": [
    {
     "data": {
      "text/plain": [
       "{'cat_1': array([123]), 'cat_2': array([123])}"
      ]
     },
     "execution_count": 11,
     "metadata": {},
     "output_type": "execute_result"
    }
   ],
   "source": [
    "list_unique_products_by_categories_by_df(df_merged_1)"
   ]
  },
  {
   "cell_type": "code",
   "execution_count": 41,
   "id": "51823bac-8bd2-4223-b29a-8b3475409f5b",
   "metadata": {},
   "outputs": [
    {
     "ename": "SyntaxError",
     "evalue": "invalid syntax (3053465284.py, line 5)",
     "output_type": "error",
     "traceback": [
      "\u001b[0;36m  File \u001b[0;32m\"/tmp/ipykernel_6868/3053465284.py\"\u001b[0;36m, line \u001b[0;32m5\u001b[0m\n\u001b[0;31m    randoms = (randint(10, 20) while randint(10, 20) !=15)\u001b[0m\n\u001b[0m                               ^\u001b[0m\n\u001b[0;31mSyntaxError\u001b[0m\u001b[0;31m:\u001b[0m invalid syntax\n"
     ]
    }
   ],
   "source": [
    "from typing import Generator\n",
    "from random import randint\n",
    "import math\n",
    "def echo_round() -> Generator[int, float, str]:\n",
    "    randoms = (randint(10, 20) while randint(10, 20) !=15)\n"
   ]
  },
  {
   "cell_type": "code",
   "execution_count": 40,
   "id": "0c894f4d-110f-4516-9dba-b5e762b63514",
   "metadata": {},
   "outputs": [
    {
     "name": "stdout",
     "output_type": "stream",
     "text": [
      "18\n",
      "20\n",
      "19\n",
      "10\n",
      "15\n"
     ]
    }
   ],
   "source": [
    "for i in echo_round():\n",
    "    print(i)"
   ]
  },
  {
   "cell_type": "code",
   "execution_count": 42,
   "id": "621c4d27-ca75-4205-ad6a-8cf308adfcf8",
   "metadata": {},
   "outputs": [
    {
     "data": {
      "text/plain": [
       "'5'"
      ]
     },
     "execution_count": 42,
     "metadata": {},
     "output_type": "execute_result"
    }
   ],
   "source": [
    "str(5)"
   ]
  },
  {
   "cell_type": "code",
   "execution_count": 43,
   "id": "564ebb45-00ee-4e8c-9e9c-4b6d65e3bfbb",
   "metadata": {},
   "outputs": [
    {
     "data": {
      "text/plain": [
       "'5.8'"
      ]
     },
     "execution_count": 43,
     "metadata": {},
     "output_type": "execute_result"
    }
   ],
   "source": [
    "str(5.8)"
   ]
  },
  {
   "cell_type": "code",
   "execution_count": 44,
   "id": "44b4bf2f-f7bd-4d7c-b299-6f2cc38b40f8",
   "metadata": {},
   "outputs": [
    {
     "data": {
      "text/plain": [
       "'inf'"
      ]
     },
     "execution_count": 44,
     "metadata": {},
     "output_type": "execute_result"
    }
   ],
   "source": [
    "str(math.inf)"
   ]
  },
  {
   "cell_type": "code",
   "execution_count": 45,
   "id": "23dda2df-36ec-4b72-bee0-1d647ebacd45",
   "metadata": {},
   "outputs": [
    {
     "data": {
      "text/plain": [
       "'None'"
      ]
     },
     "execution_count": 45,
     "metadata": {},
     "output_type": "execute_result"
    }
   ],
   "source": [
    "str(None)"
   ]
  },
  {
   "cell_type": "code",
   "execution_count": 46,
   "id": "d441e283-8e07-4815-8d24-903423d9c97f",
   "metadata": {},
   "outputs": [
    {
     "data": {
      "text/plain": [
       "'-1'"
      ]
     },
     "execution_count": 46,
     "metadata": {},
     "output_type": "execute_result"
    }
   ],
   "source": [
    "str(-1)"
   ]
  },
  {
   "cell_type": "code",
   "execution_count": null,
   "id": "407bfd91-df2a-4242-b414-a58088c03c75",
   "metadata": {},
   "outputs": [],
   "source": []
  }
 ],
 "metadata": {
  "kernelspec": {
   "display_name": "Python 3 (ipykernel)",
   "language": "python",
   "name": "python3"
  },
  "language_info": {
   "codemirror_mode": {
    "name": "ipython",
    "version": 3
   },
   "file_extension": ".py",
   "mimetype": "text/x-python",
   "name": "python",
   "nbconvert_exporter": "python",
   "pygments_lexer": "ipython3",
   "version": "3.8.10"
  }
 },
 "nbformat": 4,
 "nbformat_minor": 5
}
